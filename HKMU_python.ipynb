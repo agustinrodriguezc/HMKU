{
  "nbformat": 4,
  "nbformat_minor": 0,
  "metadata": {
    "colab": {
      "provenance": []
    },
    "kernelspec": {
      "name": "python3",
      "display_name": "Python 3"
    },
    "language_info": {
      "name": "python"
    }
  },
  "cells": [
    {
      "cell_type": "markdown",
      "source": [
        "## Import libraries"
      ],
      "metadata": {
        "id": "6NzGGcwTeX9K"
      }
    },
    {
      "cell_type": "code",
      "source": [
        "!pip install pandas\n",
        "!pip install numpy\n",
        "!pip install scikit-learn\n",
        "!pip install imbalanced-learn\n",
        "!pip install seaborn\n",
        "!pip install matplotlib\n",
        "!pip install openpyxl\n",
        "\n",
        "import pandas as pd\n",
        "import numpy as np\n",
        "from sklearn.impute import SimpleImputer\n",
        "from sklearn.preprocessing import LabelEncoder, StandardScaler\n",
        "from sklearn.model_selection import train_test_split, GridSearchCV\n",
        "from sklearn.neighbors import KNeighborsClassifier\n",
        "from sklearn.metrics import classification_report, confusion_matrix\n",
        "from imblearn.over_sampling import SMOTE\n",
        "import seaborn as sns\n",
        "import matplotlib.pyplot as plt\n",
        "from sklearn.pipeline import Pipeline"
      ],
      "metadata": {
        "id": "6eiec0EpePZg"
      },
      "execution_count": 1,
      "outputs": []
    },
    {
      "cell_type": "markdown",
      "source": [
        "## 1. Data Loading"
      ],
      "metadata": {
        "id": "SWmEYmj2ebl_"
      }
    },
    {
      "cell_type": "code",
      "source": [
        "# Define the local file paths (ajusta según tu carpeta de trabajo)\n",
        "BASIC_DATA = 'https://raw.githubusercontent.com/agustinrodriguezc/HMKU/main/risk_train_BASIC_DATA.xlsx'\n",
        "COMM_DATA = 'https://raw.githubusercontent.com/agustinrodriguezc/HMKU/main/risk_train_COMM_DATA.xlsx'\n",
        "\n",
        "# Cargar los datasets desde el sistema de archivos local\n",
        "BD = pd.read_excel(BASIC_DATA)\n",
        "CD = pd.read_excel(COMM_DATA)\n",
        "\n",
        "# Unir los dataframes por la clave ID\n",
        "df = pd.merge(BD, CD, left_on='ID', right_on='ID_OFF', how='inner')\n",
        "\n",
        "# Eliminar la columna duplicada\n",
        "df.drop(columns=['ID_OFF'], inplace=True)\n",
        "\n",
        "# Mostrar las primeras filas del DataFrame resultante\n",
        "print(\"Primeras filas del DataFrame combinado:\")\n",
        "print(df.head())"
      ],
      "metadata": {
        "colab": {
          "base_uri": "https://localhost:8080/"
        },
        "id": "ZyhDDc3aUUMl",
        "outputId": "1b7d43de-e7e5-4b4d-8d70-b1c545d63bd2"
      },
      "execution_count": 2,
      "outputs": [
        {
          "output_type": "stream",
          "name": "stdout",
          "text": [
            "Primeras filas del DataFrame combinado:\n",
            "     ID  AGE   INCOME GENDER  MARITAL  NUMKIDS  HOUSEHOLD_MEMBERS  NUMCARDS  \\\n",
            "0  1_73   50  59692.0      m  married      1.0                  3         1   \n",
            "1  2_23   50  59463.0      m  married      0.0                  2         2   \n",
            "2  3_34   50  59179.0      m  married      1.0                  2         1   \n",
            "3  4_10   50  58529.0      m  married      0.0                  1         1   \n",
            "4  5_50   50  57683.0      f  married      1.0                  2         1   \n",
            "\n",
            "   HOWPAID MORTGAGE  STORECAR  LOANS      RISK  #OFFICE     PRODUCT  \n",
            "0  monthly        y         1      0  bad loss     73.0     CLASSIC  \n",
            "1  monthly        y         1      1  bad loss     23.0     CLASSIC  \n",
            "2  monthly        y         2      1  bad loss     34.0  BASIC_PLUS  \n",
            "3  monthly        y         1      0  bad loss     10.0       BASIC  \n",
            "4  monthly        y         2      1  bad loss     50.0  BASIC_PLUS  \n"
          ]
        }
      ]
    },
    {
      "cell_type": "markdown",
      "source": [
        "## 2. Data Cleaning"
      ],
      "metadata": {
        "id": "gIVBx_dmevP8"
      }
    },
    {
      "cell_type": "code",
      "source": [
        "# Handle missing values\n",
        "imputer_income = SimpleImputer(strategy='median')\n",
        "df['INCOME'] = imputer_income.fit_transform(df[['INCOME']])\n",
        "\n",
        "imputer_office = SimpleImputer(strategy='most_frequent')\n",
        "df['#OFFICE'] = imputer_office.fit_transform(df[['#OFFICE']])\n",
        "\n",
        "# Handle outliers in 'INCOME' using IQR method\n",
        "Q1 = df['INCOME'].quantile(0.25)\n",
        "Q3 = df['INCOME'].quantile(0.75)\n",
        "IQR = Q3 - Q1\n",
        "lower_bound = Q1 - 1.5 * IQR\n",
        "upper_bound = Q3 + 1.5 * IQR\n",
        "df['INCOME'] = np.where(df['INCOME'] < lower_bound, lower_bound, df['INCOME'])\n",
        "df['INCOME'] = np.where(df['INCOME'] > upper_bound, upper_bound, df['INCOME'])\n",
        "\n",
        "# Remove remaining rows with NaN values\n",
        "df = df.dropna()\n",
        "print(\"Missing values after cleaning:\")\n",
        "print(df.isna().sum())\n",
        "\n",
        "# Filter to exclude records where RISK == \"bad profit\"\n",
        "df = df[df['RISK'] != 'bad profit'].copy()"
      ],
      "metadata": {
        "colab": {
          "base_uri": "https://localhost:8080/"
        },
        "id": "C6GBYFYRe8fv",
        "outputId": "f2782720-4d91-42e6-a591-3ccc0caf72bd"
      },
      "execution_count": 3,
      "outputs": [
        {
          "output_type": "stream",
          "name": "stdout",
          "text": [
            "Missing values after cleaning:\n",
            "ID                   0\n",
            "AGE                  0\n",
            "INCOME               0\n",
            "GENDER               0\n",
            "MARITAL              0\n",
            "NUMKIDS              0\n",
            "HOUSEHOLD_MEMBERS    0\n",
            "NUMCARDS             0\n",
            "HOWPAID              0\n",
            "MORTGAGE             0\n",
            "STORECAR             0\n",
            "LOANS                0\n",
            "RISK                 0\n",
            "#OFFICE              0\n",
            "PRODUCT              0\n",
            "dtype: int64\n"
          ]
        }
      ]
    },
    {
      "cell_type": "markdown",
      "source": [
        "## 3. Feature Engineering"
      ],
      "metadata": {
        "id": "3LSMruU4e-wI"
      }
    },
    {
      "cell_type": "code",
      "source": [
        "# Binning for 'AGE' and 'INCOME'\n",
        "df['AGE_TILE'] = pd.qcut(df['AGE'], q=4, labels=False, duplicates='drop')\n",
        "df['INCOME_TILE'] = pd.qcut(df['INCOME'], q=4, labels=False, duplicates='drop')\n",
        "\n",
        "# Create 'living_alone' variable\n",
        "df['living_alone'] = df['HOUSEHOLD_MEMBERS'] == 1\n",
        "\n",
        "# Create 'pc_income' variable\n",
        "df['pc_income'] = df['INCOME'] / df['HOUSEHOLD_MEMBERS']\n",
        "\n",
        "# Convert categorical variables to dummies\n",
        "categorical_cols = ['GENDER', 'MARITAL', 'HOWPAID', 'MORTGAGE', 'PRODUCT']\n",
        "df_dummies = pd.get_dummies(df, columns=categorical_cols, drop_first=True)\n",
        "\n",
        "# Create 'bad_loss' target variable\n",
        "df_dummies['bad_loss'] = df['RISK'] == 'bad loss'"
      ],
      "metadata": {
        "id": "aXDTcOKSfMPq"
      },
      "execution_count": 4,
      "outputs": []
    },
    {
      "cell_type": "markdown",
      "source": [
        "## 4. Modeling"
      ],
      "metadata": {
        "id": "XaOmAuQHfNMP"
      }
    },
    {
      "cell_type": "code",
      "source": [
        "# Encode the original 'RISK' variable for reference\n",
        "le = LabelEncoder() #LabelEncoder() assigns a unique integer to each category in df['RISK'].\n",
        "df_dummies['RISK_encoded'] = le.fit_transform(df['RISK']) #Converts the categorical variable RISK.\n",
        "# fit_transform() fits the encoder to the unique categories and transforms RISK into a new column called RISK_encoded.\n",
        "\n",
        "# Prepare features and target\n",
        "# Divide the data into features (X) and the target variable (y) for the machine learning model.\n",
        "X = df_dummies.drop(['RISK', 'RISK_encoded', 'ID', 'bad_loss'], axis=1)\n",
        "y = df_dummies['bad_loss'].astype(int)\n",
        "\n",
        "# Apply SMOTE to balance classes\n",
        "smote = SMOTE(random_state=12345)\n",
        "X_res, y_res = smote.fit_resample(X, y)\n",
        "\n",
        "\n",
        "# Split the rebalanced data into training (80%) and test (20%) sets to train and evaluate the model.\n",
        "X_train, X_test, y_train, y_test = train_test_split(X_res, y_res, test_size=0.2, random_state=42)"
      ],
      "metadata": {
        "id": "miiOQ8pOk5IX"
      },
      "execution_count": 5,
      "outputs": []
    },
    {
      "cell_type": "code",
      "source": [
        "# Configure the pipeline for KNN\n",
        "pipeline = Pipeline([\n",
        "    ('scaler', StandardScaler()),\n",
        "    ('clf', KNeighborsClassifier())\n",
        "])\n",
        "# scaler: Standardize the features (subtract the mean and divide by the standard deviation,\n",
        "#ensuring that all features have mean 0 and variance 1). This is crucial for KNN,\n",
        "#as the algorithm is sensitive to the scales of the variables.\n",
        "\n",
        "# clf: Applies KNeighborsClassifier(), the KNN model that predicts the class of a\n",
        "#sample based on the classes of its k nearest neighbors.\n",
        "\n",
        "# Specifies the hyperparameter combinations to be tested to optimize the KNN model.\n",
        "param_grid = {\n",
        "    'clf__n_neighbors': [3, 5, 7, 9],\n",
        "    'clf__weights': ['uniform', 'distance'], #uniform= same weights for all neighboors ||\n",
        "                                             #distance= Nearest neighbors have greater weight (inverse of distance).\n",
        "    'clf__metric': ['euclidean', 'manhattan']\n",
        "}\n",
        "\n",
        "# Configure GridSearchCV\n",
        "grid = GridSearchCV(pipeline, param_grid, cv=5, scoring='accuracy')\n",
        "\n",
        "# Fit the model\n",
        "grid.fit(X_train, y_train)\n",
        "\n",
        "# Display the best parameters\n",
        "print(\"Best Parameters from GridSearch:\")\n",
        "print(grid.best_params_)"
      ],
      "metadata": {
        "colab": {
          "base_uri": "https://localhost:8080/"
        },
        "id": "G0LEmnUcfXNY",
        "outputId": "2acd5c82-bf21-42d8-a48b-13de54e7728c"
      },
      "execution_count": 6,
      "outputs": [
        {
          "output_type": "stream",
          "name": "stdout",
          "text": [
            "Best Parameters from GridSearch:\n",
            "{'clf__metric': 'manhattan', 'clf__n_neighbors': 9, 'clf__weights': 'distance'}\n"
          ]
        }
      ]
    },
    {
      "cell_type": "markdown",
      "source": [
        "## 5. Evaluation"
      ],
      "metadata": {
        "id": "shXL5sx_faNN"
      }
    },
    {
      "cell_type": "code",
      "source": [
        "# Predict on the test set\n",
        "y_pred = grid.predict(X_test)\n",
        "\n",
        "# Display classification report\n",
        "print(\"Classification Report:\")\n",
        "print(classification_report(y_test, y_pred))\n",
        "\n",
        "# Display confusion matrix\n",
        "print(\"Confusion Matrix:\")\n",
        "cm = confusion_matrix(y_test, y_pred)\n",
        "sns.heatmap(cm, annot=True, fmt='d', cmap='Blues')\n",
        "plt.xlabel('Predicted')\n",
        "plt.ylabel('Actual')\n",
        "plt.title('Confusion Matrix')\n",
        "plt.show()\n",
        "\n",
        "# Calculate and display test accuracy\n",
        "accuracy = grid.score(X_test, y_test)\n",
        "print(f\"Test Accuracy: {accuracy:.3f}\")"
      ],
      "metadata": {
        "colab": {
          "base_uri": "https://localhost:8080/",
          "height": 680
        },
        "id": "xaptnIvufQtF",
        "outputId": "8b781b23-c2b3-4510-94ca-2459c54e3360"
      },
      "execution_count": 7,
      "outputs": [
        {
          "output_type": "stream",
          "name": "stdout",
          "text": [
            "Classification Report:\n",
            "              precision    recall  f1-score   support\n",
            "\n",
            "           0       0.99      0.97      0.98       838\n",
            "           1       0.98      0.99      0.98       840\n",
            "\n",
            "    accuracy                           0.98      1678\n",
            "   macro avg       0.98      0.98      0.98      1678\n",
            "weighted avg       0.98      0.98      0.98      1678\n",
            "\n",
            "Confusion Matrix:\n"
          ]
        },
        {
          "output_type": "display_data",
          "data": {
            "text/plain": [
              "<Figure size 640x480 with 2 Axes>"
            ],
            "image/png": "[encoded data removed]"
          },
          "metadata": {}
        },
        {
          "output_type": "stream",
          "name": "stdout",
          "text": [
            "Test Accuracy: 0.984\n"
          ]
        }
      ]
    },
    {
      "cell_type": "markdown",
      "source": [
        "![Captura de pantalla 2025-06-09 190326.png](data:image/png;base64,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)"
      ],
      "metadata": {
        "id": "44qYwLagpa7R"
      }
    },
    {
      "cell_type": "markdown",
      "source": [
        "(0, 0): 817 (true negatives, TN)\n",
        "(0, 1): 21 (false positives, FP)\n",
        "(1, 0): 6 (false negatives, FN)\n",
        "(1, 1): 834 (true positives, TP)"
      ],
      "metadata": {
        "id": "lXi0yLW-pS4_"
      }
    },
    {
      "cell_type": "markdown",
      "source": [
        "## 6. Validation"
      ],
      "metadata": {
        "id": "DWhLylbzfhnt"
      }
    },
    {
      "cell_type": "code",
      "source": [
        "# Calculate and display baseline accuracy (predicting the majority class before SMOTE)\n",
        "baseline_accuracy = y.value_counts().max() / len(y)\n",
        "print(f\"Baseline Accuracy (before SMOTE): {baseline_accuracy:.3f}\")"
      ],
      "metadata": {
        "colab": {
          "base_uri": "https://localhost:8080/"
        },
        "id": "oYnUfCIOfeoj",
        "outputId": "98f9439d-96ce-4a43-ae79-98b0c592d9c6"
      },
      "execution_count": 8,
      "outputs": [
        {
          "output_type": "stream",
          "name": "stdout",
          "text": [
            "Baseline Accuracy (before SMOTE): 0.885\n"
          ]
        }
      ]
    }
  ]
}